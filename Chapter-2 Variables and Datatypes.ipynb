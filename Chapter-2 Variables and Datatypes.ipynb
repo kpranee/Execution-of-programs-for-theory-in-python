{
 "cells": [
  {
   "cell_type": "code",
   "execution_count": 1,
   "id": "6f7eb933",
   "metadata": {},
   "outputs": [
    {
     "name": "stdout",
     "output_type": "stream",
     "text": [
      "Numeric data :  123\n",
      "String with the use of Single Quotes: \n",
      "Welcome to the Geeks World\n",
      "<class 'bool'>\n",
      "<class 'bool'>\n",
      "\n",
      "Set with the use of String: \n",
      "{'r', 'o', 'F', 's', 'k', 'e', 'G'}\n",
      "\n",
      "Dictionary with the use of Integer Keys: \n",
      "{1: 'Geeks', 2: 'For', 3: 'Geeks'}\n"
     ]
    }
   ],
   "source": [
    "# numberic\n",
    "var = 123\n",
    "print(\"Numeric data : \", var)\n",
    " \n",
    "# Sequence Type\n",
    "String1 = 'Welcome to the Geeks World'\n",
    "print(\"String with the use of Single Quotes: \")\n",
    "print(String1)\n",
    " \n",
    "# Boolean\n",
    "print(type(True))\n",
    "print(type(False))\n",
    " \n",
    "# Creating a Set with\n",
    "# the use of a String\n",
    "set1 = set(\"GeeksForGeeks\")\n",
    "print(\"\\nSet with the use of String: \")\n",
    "print(set1)\n",
    " \n",
    "# Creating a Dictionary\n",
    "# with Integer Keys\n",
    "Dict = {1: 'Geeks', 2: 'For', 3: 'Geeks'}\n",
    "print(\"\\nDictionary with the use of Integer Keys: \")\n",
    "print(Dict)"
   ]
  },
  {
   "cell_type": "code",
   "execution_count": 3,
   "id": "b6cda552",
   "metadata": {},
   "outputs": [
    {
     "name": "stdout",
     "output_type": "stream",
     "text": [
      "cse\n",
      "cse\n",
      "101\n",
      "cse\n"
     ]
    }
   ],
   "source": [
    "#Creating objects\n",
    "class CSStudent:\n",
    "    stream='cse'\n",
    "    def __init__(self,roll):\n",
    "        self.roll=roll\n",
    "a=CSStudent(101)\n",
    "b=CSStudent(102)\n",
    "print(a.stream)\n",
    "print(b.stream)\n",
    "print(a.roll)\n",
    "print(CSStudent.stream)\n",
    "        "
   ]
  },
  {
   "cell_type": "code",
   "execution_count": null,
   "id": "2f343a3a",
   "metadata": {},
   "outputs": [],
   "source": []
  }
 ],
 "metadata": {
  "kernelspec": {
   "display_name": "Python 3 (ipykernel)",
   "language": "python",
   "name": "python3"
  },
  "language_info": {
   "codemirror_mode": {
    "name": "ipython",
    "version": 3
   },
   "file_extension": ".py",
   "mimetype": "text/x-python",
   "name": "python",
   "nbconvert_exporter": "python",
   "pygments_lexer": "ipython3",
   "version": "3.9.7"
  }
 },
 "nbformat": 4,
 "nbformat_minor": 5
}
